{
  "nbformat": 4,
  "nbformat_minor": 0,
  "metadata": {
    "colab": {
      "private_outputs": true,
      "provenance": [],
      "include_colab_link": true
    },
    "kernelspec": {
      "name": "python3",
      "display_name": "Python 3"
    },
    "language_info": {
      "name": "python"
    }
  },
  "cells": [
    {
      "cell_type": "markdown",
      "metadata": {
        "id": "view-in-github",
        "colab_type": "text"
      },
      "source": [
        "<a href=\"https://colab.research.google.com/github/ShieldEdu/G4-finalproject/blob/main/FPG04.ipynb\" target=\"_parent\"><img src=\"https://colab.research.google.com/assets/colab-badge.svg\" alt=\"Open In Colab\"/></a>"
      ]
    },
    {
      "cell_type": "markdown",
      "source": [
        "# 🌱**Group 4 Final Project (6/11)**\n",
        "\n",
        "+ Reading material: 💾 [text link](https://raw.githubusercontent.com/MK316/Spring2024/main/DLTESOL/project/story02.txt)\n",
        "\n",
        "## Learning objectives:\n",
        "+ objective 1: Students will be able to learn new vocabulary from the reading text.\n",
        "+ objective 2: Students will be able to enhance listening comprehension focusing on the past verb.\n",
        "+ objective 3: Students will be able to develop sequencing skills based on the understanding of the storyline.\n",
        "+ objective 4: Students will be able to foster creative writing abilities and check their own writing."
      ],
      "metadata": {
        "id": "3EGZDlOvWSAf"
      }
    },
    {
      "cell_type": "markdown",
      "source": [
        "\n",
        "\n",
        ">**Teaching Procedure**\n",
        "\n"
      ],
      "metadata": {
        "id": "V8sP5m3gGtn8"
      }
    },
    {
      "cell_type": "markdown",
      "source": [
        "# **Pre-Listening Activity: Learning New Words**\n",
        "##1. Gradio Wordcloud App: Create a word cloud from the text to highlight the most frequent words."
      ],
      "metadata": {
        "id": "aCIvfFOXKnfx"
      }
    },
    {
      "cell_type": "code",
      "source": [
        "!pip install gradio\n",
        "!pip install wordcloud\n",
        "import gradio as gr\n",
        "from wordcloud import WordCloud\n",
        "import matplotlib.pyplot as plt\n",
        "\n",
        "def create_wordcloud(text):\n",
        "    wordcloud = WordCloud(width=800, height=400, background_color='white').generate(text)\n",
        "    plt.figure(figsize=(10, 5))\n",
        "    plt.imshow(wordcloud, interpolation='bilinear')\n",
        "    plt.axis('off')\n",
        "    plt.show()\n",
        "    return plt.gcf()\n",
        "\n",
        "text = \"\"\"\n",
        "In the small mountain village of Echo Ridge, adventure was a part of everyday life. Nestled among towering peaks, the village was said to be protected by the \"Guardian of the Glen,\" a massive eagle that supposedly watched over the villagers from its perch high in the mountains. The legend inspired many adventurous tales among the villagers, especially the children.\n",
        "Among these children was a bright-eyed eighth grader named Alex. Alex was known for his daring spirit and his love for exploring the rugged landscapes around Echo Ridge. He had a particular fascination with the old maps and tales of hidden treasures that had been lost in the mountains centuries ago.\n",
        "One day, while exploring the local library, Alex stumbled upon an ancient map tucked inside a forgotten book on village lore. The map hinted at the location of a lost treasure, hidden deep within a cave known as Whispering Hollow. Excited by the prospect of a real adventure, Alex decided to seek out the treasure.\n",
        "Knowing the journey would be risky, he enlisted the help of his best friends, Mia and Sam. Together, they prepared for the expedition, gathering supplies and studying the map extensively. They planned their route, took note of landmarks, and readied themselves for any challenges they might face.\n",
        "Their journey began at dawn. They trekked through dense forests, crossed rushing streams, and climbed steep cliffs. Along the way, they encountered various wildlife and navigated through tricky terrains, their map guiding them every step of the way.\n",
        "After hours of hiking, they finally reached Whispering Hollow. The cave was more magnificent than they had imagined, filled with intricate stalactites and echoes of dripping water. Using their flashlights, they ventured deeper into the cave, guided by the markings on the map.\n",
        "As they reached the heart of the cave, they discovered an ancient chest hidden behind a fallen boulder. With hearts pounding, they moved the boulder and opened the chest. Inside, instead of gold or jewels, they found a collection of old artifacts: pottery, coins, and a beautifully carved statuette of an eagle — the Guardian of the Glen.\n",
        "Realizing the historical significance of their find, they decided to donate the artifacts to the local museum. The village celebrated their discovery, and the children were hailed as heroes. Their adventure brought the community together, sparking a renewed interest in the history and legends of Echo Ridge. Alex, Mia, and Sam became local legends, known not only for their daring but also for their spirit of discovery and respect for heritage. They continued to explore the mountains, each adventure strengthening their friendship and deepening their connection to their village.\n",
        "The legend of the Guardian of the Glen lived on, not just as a protector but as a symbol of adventure and discovery, inspiring future generations to explore the mysteries of Echo Ridge.\n",
        "\"\"\"\n",
        "\n",
        "gr.Interface(fn=create_wordcloud, inputs=\"text\", outputs=\"plot\").launch(share=True)\n"
      ],
      "metadata": {
        "id": "L6y3ySWGK9NG"
      },
      "execution_count": null,
      "outputs": []
    },
    {
      "cell_type": "markdown",
      "source": [
        "## 2. Gradio TTS App"
      ],
      "metadata": {
        "id": "ALOfAcx5Mho_"
      }
    },
    {
      "cell_type": "code",
      "source": [
        "!pip install gtts\n",
        "import gradio as gr\n",
        "from gtts import gTTS\n",
        "\n",
        "def text_to_speech(text):\n",
        "    tts = gTTS(text)\n",
        "    tts.save(\"output.mp3\")\n",
        "    return \"output.mp3\"\n",
        "\n",
        "text = \"\"\"\n",
        "In the small mountain village of Echo Ridge, adventure was a part of everyday life. Nestled among towering peaks, the village was said to be protected by the \"Guardian of the Glen,\" a massive eagle that supposedly watched over the villagers from its perch high in the mountains. The legend inspired many adventurous tales among the villagers, especially the children.\n",
        "Among these children was a bright-eyed eighth grader named Alex. Alex was known for his daring spirit and his love for exploring the rugged landscapes around Echo Ridge. He had a particular fascination with the old maps and tales of hidden treasures that had been lost in the mountains centuries ago.\n",
        "One day, while exploring the local library, Alex stumbled upon an ancient map tucked inside a forgotten book on village lore. The map hinted at the location of a lost treasure, hidden deep within a cave known as Whispering Hollow. Excited by the prospect of a real adventure, Alex decided to seek out the treasure.\n",
        "Knowing the journey would be risky, he enlisted the help of his best friends, Mia and Sam. Together, they prepared for the expedition, gathering supplies and studying the map extensively. They planned their route, took note of landmarks, and readied themselves for any challenges they might face.\n",
        "Their journey began at dawn. They trekked through dense forests, crossed rushing streams, and climbed steep cliffs. Along the way, they encountered various wildlife and navigated through tricky terrains, their map guiding them every step of the way.\n",
        "After hours of hiking, they finally reached Whispering Hollow. The cave was more magnificent than they had imagined, filled with intricate stalactites and echoes of dripping water. Using their flashlights, they ventured deeper into the cave, guided by the markings on the map.\n",
        "As they reached the heart of the cave, they discovered an ancient chest hidden behind a fallen boulder. With hearts pounding, they moved the boulder and opened the chest. Inside, instead of gold or jewels, they found a collection of old artifacts: pottery, coins, and a beautifully carved statuette of an eagle — the Guardian of the Glen.\n",
        "Realizing the historical significance of their find, they decided to donate the artifacts to the local museum. The village celebrated their discovery, and the children were hailed as heroes. Their adventure brought the community together, sparking a renewed interest in the history and legends of Echo Ridge. Alex, Mia, and Sam became local legends, known not only for their daring but also for their spirit of discovery and respect for heritage. They continued to explore the mountains, each adventure strengthening their friendship and deepening their connection to their village.\n",
        "The legend of the Guardian of the Glen lived on, not just as a protector but as a symbol of adventure and discovery, inspiring future generations to explore the mysteries of Echo Ridge.\n",
        "\"\"\"\n",
        "\n",
        "gr.Interface(fn=text_to_speech, inputs=\"text\", outputs=\"audio\").launch(share=True)\n"
      ],
      "metadata": {
        "id": "5I9a_KObMgB0"
      },
      "execution_count": null,
      "outputs": []
    },
    {
      "cell_type": "markdown",
      "source": [
        "## 3. Gradio Cloze Question App"
      ],
      "metadata": {
        "id": "Ni8M7wB0MfwT"
      }
    },
    {
      "cell_type": "code",
      "source": [
        "import gradio as gr\n",
        "\n",
        "def create_cloze(text):\n",
        "    # Replace past tense verbs with blanks\n",
        "    cloze_text = text.replace(\"was\", \"___\").replace(\"said\", \"___\").replace(\"watched\", \"___\").replace(\"inspired\", \"___\").replace(\"exploring\", \"___\").replace(\"stumbled\", \"___\").replace(\"decided\", \"___\").replace(\"prepared\", \"___\").replace(\"guided\", \"___\").replace(\"reached\", \"___\").replace(\"discovered\", \"___\").replace(\"moved\", \"___\").replace(\"opened\", \"___\").replace(\"found\", \"___\").replace(\"became\", \"___\")\n",
        "    return cloze_text\n",
        "\n",
        "text = \"\"\"\n",
        "In the small mountain village of Echo Ridge, adventure was a part of everyday life. Nestled among towering peaks, the village was said to be protected by the \"Guardian of the Glen,\" a massive eagle that supposedly watched over the villagers from its perch high in the mountains. The legend inspired many adventurous tales among the villagers, especially the children.\n",
        "Among these children was a bright-eyed eighth grader named Alex. Alex was known for his daring spirit and his love for exploring the rugged landscapes around Echo Ridge. He had a particular fascination with the old maps and tales of hidden treasures that had been lost in the mountains centuries ago.\n",
        "One day, while exploring the local library, Alex stumbled upon an ancient map tucked inside a forgotten book on village lore. The map hinted at the location of a lost treasure, hidden deep within a cave known as Whispering Hollow. Excited by the prospect of a real adventure, Alex decided to seek out the treasure.\n",
        "Knowing the journey would be risky, he enlisted the help of his best friends, Mia and Sam. Together, they prepared for the expedition, gathering supplies and studying the map extensively. They planned their route, took note of landmarks, and readied themselves for any challenges they might face.\n",
        "Their journey began at dawn. They trekked through dense forests, crossed rushing streams, and climbed steep cliffs. Along the way, they encountered various wildlife and navigated through tricky terrains, their map guiding them every step of the way.\n",
        "After hours of hiking, they finally reached Whispering Hollow. The cave was more magnificent than they had imagined, filled with intricate stalactites and echoes of dripping water. Using their flashlights, they ventured deeper into the cave, guided by the markings on the map.\n",
        "As they reached the heart of the cave, they discovered an ancient chest hidden behind a fallen boulder. With hearts pounding, they moved the boulder and opened the chest. Inside, instead of gold or jewels, they found a collection of old artifacts: pottery, coins, and a beautifully carved statuette of an eagle — the Guardian of the Glen.\n",
        "Realizing the historical significance of their find, they decided to donate the artifacts to the local museum. The village celebrated their discovery, and the children were hailed as heroes. Their adventure brought the community together, sparking a renewed interest in the history and legends of Echo Ridge. Alex, Mia, and Sam became local legends, known not only for their daring but also for their spirit of discovery and respect for heritage. They continued to explore the mountains, each adventure strengthening their friendship and deepening their connection to their village.\n",
        "The legend of the Guardian of the Glen lived on, not just as a protector but as a symbol of adventure and discovery, inspiring future generations to explore the mysteries of Echo Ridge.\n",
        "\"\"\"\n",
        "\n",
        "gr.Interface(fn=create_cloze, inputs=\"text\", outputs=\"text\").launch(share=True)\n"
      ],
      "metadata": {
        "id": "BoJkcJjINhSy"
      },
      "execution_count": null,
      "outputs": []
    },
    {
      "cell_type": "markdown",
      "source": [
        "## 4.Gradio Verb Base Form App\n",
        "*지문에 있는 동사만 체크 가능"
      ],
      "metadata": {
        "id": "BuiP1Z5DNPJY"
      }
    },
    {
      "cell_type": "code",
      "source": [
        "import gradio as gr\n",
        "\n",
        "def verb_to_base(past_tense):\n",
        "    base_forms = {\n",
        "        \"was\": \"be\", \"said\": \"say\", \"watched\": \"watch\", \"inspired\": \"inspire\", \"exploring\": \"explore\",\n",
        "        \"stumbled\": \"stumble\", \"decided\": \"decide\", \"prepared\": \"prepare\", \"guided\": \"guide\",\n",
        "        \"reached\": \"reach\", \"discovered\": \"discover\", \"moved\": \"move\", \"opened\": \"open\", \"found\": \"find\",\n",
        "        \"became\": \"become\"\n",
        "    }\n",
        "    return base_forms.get(past_tense, \"Unknown\")\n",
        "\n",
        "gr.Interface(fn=verb_to_base, inputs=\"text\", outputs=\"text\").launch(share=True)\n"
      ],
      "metadata": {
        "id": "ZxjdicZENmk_"
      },
      "execution_count": null,
      "outputs": []
    },
    {
      "cell_type": "markdown",
      "source": [
        "## 5. Gradio Image Sequencing App\n",
        "*안 됨. 이미지 업로드 해봤으나, 학생분들 입장에서 어떻게 순서를 맞추는지 INPUT칸이 나오지 않는 문제 발생.\n",
        "*아예 이미지가 gradio에서 열리는 것은 불가능한 것인가?"
      ],
      "metadata": {
        "id": "k9jk3A6qNjnx"
      }
    },
    {
      "cell_type": "code",
      "source": [
        "from google.colab import files\n",
        "uploaded = files.upload()"
      ],
      "metadata": {
        "id": "XpYgJ3wqSofq"
      },
      "execution_count": null,
      "outputs": []
    },
    {
      "cell_type": "code",
      "source": [
        "from google.colab import files\n",
        "uploaded = files.upload()"
      ],
      "metadata": {
        "id": "S2yl1VhyNnDL"
      },
      "execution_count": null,
      "outputs": []
    },
    {
      "cell_type": "code",
      "source": [
        "from google.colab import files\n",
        "uploaded = files.upload()"
      ],
      "metadata": {
        "id": "WptY6XBfSnXj"
      },
      "execution_count": null,
      "outputs": []
    },
    {
      "cell_type": "code",
      "source": [
        "from google.colab import files\n",
        "uploaded = files.upload()"
      ],
      "metadata": {
        "id": "N7nTIuZpSwp1"
      },
      "execution_count": null,
      "outputs": []
    },
    {
      "cell_type": "code",
      "source": [
        "from PIL import Image\n",
        "import gradio as gr\n",
        "\n",
        "def sequence_images(image1, image2, image3, image4):\n",
        "    # Assuming the correct sequence is image1, image2, image3, image4\n",
        "    correct_sequence = [\"image1.png\", \"image2.png\", \"image3.png\", \"image4.png\"]\n",
        "    user_sequence = [image1, image2, image3, image4]\n",
        "\n",
        "    if user_sequence == correct_sequence:\n",
        "        return \"Correct!\"\n",
        "    else:\n",
        "        return \"Try again!\"\n",
        "\n",
        "# Open the images\n",
        "image1 = Image.open(\"image1.png\")\n",
        "image2 = Image.open(\"image2.png\")\n",
        "image3 = Image.open(\"image3.png\")\n",
        "image4 = Image.open(\"image4.png\")\n",
        "\n",
        "gr.Interface(fn=sequence_images, inputs=[\"image\", \"image\", \"image\", \"image\"], outputs=\"text\").launch(share=True)\n"
      ],
      "metadata": {
        "id": "vLlzfCnsS3ic"
      },
      "execution_count": null,
      "outputs": []
    },
    {
      "cell_type": "markdown",
      "source": [
        "## 6. Gradio Writing Checker App\n",
        "*완전 안 됨->올바른 text를 넣으면 오류가 나서 나옴.\n",
        "*학습 목표에 맞게 past tense만 고치는 것도 시도해 봤으나(아래 코딩) 전혀 작동하지 않음. -> 향후 주어진 문장을 주고 고쳐서 써보게 하거나, 틀린 점을 찾는 방향으로 수정해야 할 것 같음.\n",
        "*Sample texts:\n",
        " If I were Alex, I would start a business with the friends using the artifacts. This is because they have to consider their future career after the adventure, and it's also crucial to think of  the other friends, Mia and Sam. I should ask them first about how they want to deal with the historical items."
      ],
      "metadata": {
        "id": "GkXmQ0Y-O3nl"
      }
    },
    {
      "cell_type": "code",
      "source": [
        "!pip install textblob\n",
        "import gradio as gr\n",
        "from textblob import TextBlob\n",
        "\n",
        "def check_writing(text):\n",
        "    blob = TextBlob(text)\n",
        "    corrected_text = blob.correct()\n",
        "    return str(corrected_text)\n",
        "\n",
        "gr.Interface(fn=check_writing, inputs=\"text\", outputs=\"text\").launch(share=True)\n"
      ],
      "metadata": {
        "id": "RPZvZ2siO8RR"
      },
      "execution_count": null,
      "outputs": []
    },
    {
      "cell_type": "code",
      "source": [
        "# Step 1: Install Gradio and TextBlob\n",
        "!pip install textblob\n",
        "\n",
        "# Step 2: Download TextBlob Language Data\n",
        "!python -m textblob.download_corpora\n",
        "\n",
        "# Step 3: Implement the Gradio Writing Checker App\n",
        "import gradio as gr\n",
        "from textblob import TextBlob\n",
        "\n",
        "def check_past_tense(text):\n",
        "    blob = TextBlob(text)\n",
        "    corrected_text = blob.correct()\n",
        "\n",
        "    # Find differences and highlight past tense corrections\n",
        "    corrections = []\n",
        "    for word, corrected_word in zip(blob.words, corrected_text.words):\n",
        "        if word != corrected_word:\n",
        "            corrections.append((word, corrected_word))\n",
        "\n",
        "    # Generate the output with corrections highlighted\n",
        "    output = text\n",
        "    for word, corrected_word in corrections:\n",
        "        output = output.replace(word, f\"**{corrected_word}**\")\n",
        "\n",
        "    return output\n",
        "\n",
        "gr.Interface(\n",
        "    fn=check_past_tense,\n",
        "    inputs=\"text\",\n",
        "    outputs=\"text\",\n",
        "    title=\"Past Tense Verb Checker\",\n",
        "    description=\"Check and correct past tense verb mistakes in your text.\"\n",
        ").launch(share=True)\n"
      ],
      "metadata": {
        "id": "1Y8d2dWXYbKX"
      },
      "execution_count": null,
      "outputs": []
    }
  ]
}