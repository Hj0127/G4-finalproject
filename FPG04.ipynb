{
  "nbformat": 4,
  "nbformat_minor": 0,
  "metadata": {
    "colab": {
      "private_outputs": true,
      "provenance": [],
      "include_colab_link": true
    },
    "kernelspec": {
      "name": "python3",
      "display_name": "Python 3"
    },
    "language_info": {
      "name": "python"
    }
  },
  "cells": [
    {
      "cell_type": "markdown",
      "metadata": {
        "id": "view-in-github",
        "colab_type": "text"
      },
      "source": [
        "<a href=\"https://colab.research.google.com/github/ShieldEdu/G4-finalproject/blob/main/FPG04.ipynb\" target=\"_parent\"><img src=\"https://colab.research.google.com/assets/colab-badge.svg\" alt=\"Open In Colab\"/></a>"
      ]
    },
    {
      "cell_type": "markdown",
      "source": [
        "# 🌱**Group 4 Final Project (6/11)**\n",
        "\n",
        "+ Reading material: 💾 [text link](https://raw.githubusercontent.com/MK316/Spring2024/main/DLTESOL/project/story02.txt)\n",
        "\n",
        "## Learning objectives:\n",
        "+ objective 1: Students will be able to improve vocabulary knowledge.\n",
        "+ objective 2: Students will be able to enhance listening comprehension.\n",
        "+ objective 3: Students will be able to develop sequencing skills.\n",
        "+ objective 4: Students will be able to foster creative writing abilities."
      ],
      "metadata": {
        "id": "3EGZDlOvWSAf"
      }
    },
    {
      "cell_type": "markdown",
      "source": [
        "\n",
        "\n",
        ">**Teaching Procedure**\n",
        "\n"
      ],
      "metadata": {
        "id": "V8sP5m3gGtn8"
      }
    },
    {
      "cell_type": "code",
      "execution_count": null,
      "metadata": {
        "id": "jSEVjcU0WRWy"
      },
      "outputs": [],
      "source": [
        "###(1) Pre-Listening Activity: Learning New Words\n",
        "##Gradio Wordcloud App: Create a word cloud from the text to highlight the most frequent words."
      ]
    },
    {
      "cell_type": "code",
      "source": [
        "!pip install gradio"
      ],
      "metadata": {
        "id": "3xSQd6v4HRjv"
      },
      "execution_count": null,
      "outputs": []
    },
    {
      "cell_type": "code",
      "source": [
        "import gradio as gr\n",
        "from wordcloud import WordCloud\n",
        "import matplotlib.pyplot as plt\n",
        "\n",
        "def create_wordcloud(text):\n",
        "    wordcloud = WordCloud(width=800, height=400, background_color='white').generate(text)\n",
        "    plt.figure(figsize=(10, 5))\n",
        "    plt.imshow(wordcloud, interpolation='bilinear')\n",
        "    plt.axis('off')\n",
        "    plt.show()\n",
        "\n",
        "text = \"The Guardian's Secret text goes here...\"\n",
        "gr.Interface(create_wordcloud, text, \"plot\").launch()\n"
      ],
      "metadata": {
        "id": "CFlNIuxE7JJN"
      },
      "execution_count": null,
      "outputs": []
    },
    {
      "cell_type": "code",
      "source": [],
      "metadata": {
        "id": "Wrm-NwIQGsa0"
      },
      "execution_count": null,
      "outputs": []
    }
  ]
}